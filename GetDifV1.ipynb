{
 "cells": [
  {
   "cell_type": "code",
   "execution_count": 7,
   "metadata": {},
   "outputs": [
    {
     "name": "stdout",
     "output_type": "stream",
     "text": [
      "  Age  Weight\n",
      "0  20      59\n",
      "1  14      29\n",
      "2  56      73\n",
      "3  28      56\n",
      "4  10      48\n",
      "  Age  Weight\n",
      "0  16      55\n",
      "1  20      59\n",
      "2  24      73\n",
      "3  40      85\n",
      "4  22      56\n"
     ]
    }
   ],
   "source": [
    "import pandas as pd\n",
    "  \n",
    "# first dataframe\n",
    "df1 = pd.DataFrame({\n",
    "    'Age': ['20', '14', '56', '28', '10'],\n",
    "    'Weight': [59, 29, 73, 56, 48]})\n",
    "print(df1)\n",
    "  \n",
    "# second dataframe\n",
    "df2 = pd.DataFrame({\n",
    "    'Age': ['16', '20', '24', '40', '22'],\n",
    "    'Weight': [55, 59, 73, 85, 56]})\n",
    "print(df2)"
   ]
  },
  {
   "cell_type": "code",
   "execution_count": 8,
   "metadata": {},
   "outputs": [
    {
     "name": "stdout",
     "output_type": "stream",
     "text": [
      "  Age  Weight\n",
      "0  20      59\n",
      "1  14      29\n",
      "2  56      73\n",
      "3  28      56\n",
      "4  10      48\n",
      "---------------------\n",
      "  Age  Weight\n",
      "0  16      55\n",
      "1  20      59\n",
      "2  24      73\n",
      "3  40      85\n",
      "4  22      56\n",
      "---------------------\n",
      "  Age  Weight\n",
      "1  14      29\n",
      "2  56      73\n",
      "3  28      56\n",
      "4  10      48\n",
      "0  16      55\n",
      "2  24      73\n",
      "3  40      85\n",
      "4  22      56\n"
     ]
    }
   ],
   "source": [
    "df3 = pd.concat([df1,df2]).drop_duplicates(keep=False)\n",
    "print(df1)\n",
    "print('---------------------')\n",
    "print(df2)\n",
    "print('---------------------')\n",
    "print(df3)"
   ]
  }
 ],
 "metadata": {
  "interpreter": {
   "hash": "1bc403db6b00dcd46548d2b7a9c97ef3af714750ecabb66c078499898b03db81"
  },
  "kernelspec": {
   "display_name": "Python 3.10.2 64-bit",
   "language": "python",
   "name": "python3"
  },
  "language_info": {
   "codemirror_mode": {
    "name": "ipython",
    "version": 3
   },
   "file_extension": ".py",
   "mimetype": "text/x-python",
   "name": "python",
   "nbconvert_exporter": "python",
   "pygments_lexer": "ipython3",
   "version": "3.10.2"
  },
  "orig_nbformat": 4
 },
 "nbformat": 4,
 "nbformat_minor": 2
}
